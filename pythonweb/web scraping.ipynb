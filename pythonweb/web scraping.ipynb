{
 "cells": [
  {
   "cell_type": "markdown",
   "id": "434a5ccf-4303-4349-9fd3-9871645d098e",
   "metadata": {},
   "source": [
    "# using Beautiful soup & REQUEST LIBRARY"
   ]
  },
  {
   "cell_type": "code",
   "execution_count": 10,
   "id": "7128b73f-bd2c-4cc4-b771-049cccc4ba56",
   "metadata": {},
   "outputs": [
    {
     "name": "stdout",
     "output_type": "stream",
     "text": [
      "Requirement already satisfied: BeautifulSoup4 in c:\\users\\acer\\appdata\\local\\programs\\python\\python312\\lib\\site-packages (4.12.3)\n",
      "Requirement already satisfied: soupsieve>1.2 in c:\\users\\acer\\appdata\\local\\programs\\python\\python312\\lib\\site-packages (from BeautifulSoup4) (2.5)\n"
     ]
    },
    {
     "name": "stderr",
     "output_type": "stream",
     "text": [
      "\n",
      "[notice] A new release of pip is available: 23.3.2 -> 24.0\n",
      "[notice] To update, run: python.exe -m pip install --upgrade pip\n"
     ]
    }
   ],
   "source": [
    "!pip install BeautifulSoup4"
   ]
  },
  {
   "cell_type": "code",
   "execution_count": 6,
   "id": "68d8683b-08df-4688-bed6-13b50c77c2c0",
   "metadata": {},
   "outputs": [],
   "source": [
    "import requests\n",
    "from bs4 import BeautifulSoup"
   ]
  },
  {
   "cell_type": "code",
   "execution_count": 7,
   "id": "404ca4ae-e8bf-4c81-bf99-56de376bb881",
   "metadata": {},
   "outputs": [],
   "source": [
    "url =\"https://realpython.com/python-web-scraping-practical-introduction/\""
   ]
  },
  {
   "cell_type": "code",
   "execution_count": 8,
   "id": "d6942c62-0477-4a66-ac43-e0aa7887c4ea",
   "metadata": {},
   "outputs": [],
   "source": [
    "try:\n",
    "    page=requests.get(url)\n",
    "\n",
    "except:\n",
    "    print(\"SOMETHING WENT WRONG!\")"
   ]
  },
  {
   "cell_type": "code",
   "execution_count": 11,
   "id": "0531fdea-9b61-4974-a066-c2b569ddde92",
   "metadata": {},
   "outputs": [],
   "source": [
    "html_soup=BeautifulSoup(page.text,\"html.parser\")"
   ]
  },
  {
   "cell_type": "code",
   "execution_count": 12,
   "id": "b9e76fae-52e2-4030-90e7-f0e9eb87197a",
   "metadata": {},
   "outputs": [],
   "source": [
    "allHeads=html_soup.find_all('h3')\n"
   ]
  },
  {
   "cell_type": "code",
   "execution_count": 14,
   "id": "a2dfb193-c8ec-4683-b59a-3e1c367b63fb",
   "metadata": {},
   "outputs": [
    {
     "name": "stdout",
     "output_type": "stream",
     "text": [
      "Build Your First Web Scraper\n",
      "Extract Text From HTML With String Methods\n",
      "Get to Know Regular Expressions\n",
      "Extract Text From HTML With Regular Expressions\n",
      "Check Your Understanding\n",
      "Install Beautiful Soup\n",
      "Create a BeautifulSoup Object\n",
      "Use a BeautifulSoup Object\n",
      "Check Your Understanding\n",
      "Install MechanicalSoup\n",
      "Create a Browser Object\n",
      "Submit a Form With MechanicalSoup\n",
      "Check Your Understanding\n"
     ]
    }
   ],
   "source": [
    "for head in allHeads:\n",
    "    print(head.text)"
   ]
  },
  {
   "cell_type": "code",
   "execution_count": 15,
   "id": "c070ec7e-af70-4b21-a2bb-1915995a4396",
   "metadata": {},
   "outputs": [],
   "source": [
    "para=html_soup.find_all('a')"
   ]
  },
  {
   "cell_type": "code",
   "execution_count": 18,
   "id": "bafa6827-70be-426d-9a77-5bf731d4bfed",
   "metadata": {},
   "outputs": [
    {
     "name": "stdout",
     "output_type": "stream",
     "text": [
      "https://www.pythonjobshq.com\n",
      "https://twitter.com/intent/tweet/?text=Check out this %23Python tutorial: A%20Practical%20Introduction%20to%20Web%20Scraping%20in%20Python by @realpython&url=https%3A//realpython.com/python-web-scraping-practical-introduction/\n",
      "https://facebook.com/sharer/sharer.php?u=https%3A//realpython.com/python-web-scraping-practical-introduction/\n",
      "https://twitter.com/intent/tweet/?text=Check out this %23Python tutorial: A%20Practical%20Introduction%20to%20Web%20Scraping%20in%20Python by @realpython&url=https%3A//realpython.com/python-web-scraping-practical-introduction/\n",
      "https://facebook.com/sharer/sharer.php?u=https%3A//realpython.com/python-web-scraping-practical-introduction/\n",
      "https://realpython.com/learning-paths/data-science-python-core-skills/\n",
      "https://realpython.com/products/python-basics-book/\n",
      "https://realpython.com/python-idle/\n",
      "https://realpython.com/python-ides-code-editors-guide/\n",
      "https://realpython.com/effective-python-environment/\n",
      "https://realpython.com/bonus/python-web-scraping-practical-introduction-code/\n",
      "https://en.wikipedia.org/wiki/Web_scraping#Legal_issues\n",
      "https://docs.python.org/3/library/\n",
      "https://realpython.com/urllib-request/\n",
      "https://realpython.com/python-encodings-guide/#unicode-vs-utf-8\n",
      "https://realpython.com/python-print/\n",
      "https://realpython.com/html-css-python/\n",
      "https://files.realpython.com/media/website_aphrodite.10b67047ebc2.png\n",
      "https://realpython.com/python-strings/#built-in-string-methods\n",
      "https://realpython.com/python-strings/#string-slicing\n",
      "https://realpython.com/python-string-contains-substring/\n",
      "https://docs.python.org/3/library/re.html\n",
      "https://realpython.com/python-lists-tuples/\n",
      "https://realpython.com/replace-string-python/#leverage-resub-to-make-complex-rules\n",
      "https://realpython.com/replace-string-python/\n",
      "https://realpython.com/regex-python/\n",
      "https://realpython.com/python-for-loop/\n",
      "https://beautiful-soup-4.readthedocs.io/en/latest/\n",
      "https://realpython.com/terminal-commands/\n",
      "https://files.realpython.com/media/website_dionysos_page.8d7be251d9a0.png\n",
      "https://realpython.com/python-xml-parser/#lxml-use-elementtree-on-steroids\n",
      "https://realpython.com/products/python-basics-book/\n",
      "https://realpython.com/products/python-basics-book/\n",
      "https://pypi.org/\n",
      "https://mechanicalsoup.readthedocs.io/en/stable/\n",
      "https://realpython.com/what-is-pip/\n",
      "https://developer.mozilla.org/en-US/docs/Web/HTTP/Status\n",
      "https://files.realpython.com/media/website_login.739f488fbe74.png\n",
      "https://mechanicalsoup.readthedocs.io/en/stable/\n",
      "https://files.realpython.com/media/website_dice.3cdd09061f55.png\n",
      "https://developer.mozilla.org/en-US/docs/Web/CSS/ID_selectors\n",
      "https://realpython.com/python-sleep/\n",
      "https://realpython.com/python-time-module/\n",
      "https://realpython.com/python-conditional-statements/\n",
      "https://realpython.com/bonus/python-web-scraping-practical-introduction-code/\n",
      "https://realpython.com/beautiful-soup-web-scraper-python/\n",
      "https://realpython.com/api-integration-in-python/\n",
      "https://realpython.com/python-api/\n",
      "https://realpython.com/products/python-basics-book/\n",
      "https://realpython.com/products/python-basics-book/\n",
      "https://www.linkedin.com/sharing/share-offsite/?url=https%3A%2F%2Frealpython.com%2Fpython-web-scraping-practical-introduction%2F\n",
      "https://twitter.com/intent/tweet/?text=Interesting%20Python%20article%20on%20%40realpython%3A%20A%20Practical%20Introduction%20to%20Web%20Scraping%20in%20Python&url=https%3A%2F%2Frealpython.com%2Fpython-web-scraping-practical-introduction%2F\n",
      "https://facebook.com/sharer/sharer.php?u=https%3A%2F%2Frealpython.com%2Fpython-web-scraping-practical-introduction%2F\n",
      "https://realpython.com/python-beginner-tips/#tip-9-ask-good-questions\n",
      "https://support.realpython.com\n",
      "https://www.youtube.com/realpython\n",
      "https://twitter.com/realpython\n",
      "https://facebook.com/LearnRealPython\n",
      "https://www.instagram.com/realpython/\n"
     ]
    }
   ],
   "source": [
    "for data in para:\n",
    "    if(data['href'].startswith('https://')):\n",
    "        print(data['href'])"
   ]
  },
  {
   "cell_type": "code",
   "execution_count": null,
   "id": "3e2435f4-de0f-461a-9036-6232eca4ddb6",
   "metadata": {},
   "outputs": [],
   "source": []
  }
 ],
 "metadata": {
  "kernelspec": {
   "display_name": "Python 3 (ipykernel)",
   "language": "python",
   "name": "python3"
  },
  "language_info": {
   "codemirror_mode": {
    "name": "ipython",
    "version": 3
   },
   "file_extension": ".py",
   "mimetype": "text/x-python",
   "name": "python",
   "nbconvert_exporter": "python",
   "pygments_lexer": "ipython3",
   "version": "3.12.1"
  }
 },
 "nbformat": 4,
 "nbformat_minor": 5
}
